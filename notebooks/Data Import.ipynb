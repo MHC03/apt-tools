{
 "cells": [
  {
   "cell_type": "code",
   "execution_count": 17,
   "metadata": {
    "collapsed": false
   },
   "outputs": [],
   "source": [
    "import pandas as pd\n",
    "import struct\n",
    "import re\n",
    "import numpy as np\n",
    "\n",
    "import matplotlib.colors as cols\n",
    "import matplotlib.pyplot as plt\n",
    "from mpl_toolkits.mplot3d import Axes3D\n",
    "\n",
    "# %matplotlib inline"
   ]
  },
  {
   "cell_type": "markdown",
   "metadata": {},
   "source": [
    "## Import .pos"
   ]
  },
  {
   "cell_type": "code",
   "execution_count": 18,
   "metadata": {
    "collapsed": true
   },
   "outputs": [],
   "source": [
    "def read_pos(f):\n",
    "    # read in the data\n",
    "    n = len(file(f).read())/4\n",
    "    d = struct.unpack('>'+'f'*n,file(f).read(4*n)) \n",
    "                    # '>' denotes 'big-endian' byte order\n",
    "    # unpack data\n",
    "    pos = pd.DataFrame({'x': d[0::4],\n",
    "                        'y': d[1::4],\n",
    "                        'z': d[2::4],\n",
    "                        'Da': d[3::4]})\n",
    "    return pos"
   ]
  },
  {
   "cell_type": "code",
   "execution_count": 19,
   "metadata": {
    "collapsed": false
   },
   "outputs": [],
   "source": [
    "pos = read_pos('example-data/voldata.pos')"
   ]
  },
  {
   "cell_type": "markdown",
   "metadata": {},
   "source": [
    "## Import .epos"
   ]
  },
  {
   "cell_type": "code",
   "execution_count": 20,
   "metadata": {
    "collapsed": false
   },
   "outputs": [],
   "source": [
    "def read_epos(f):\n",
    "    # read in the data\n",
    "    n = len(file(f).read())/4\n",
    "    rs = n / 11\n",
    "    d = struct.unpack('>'+'fffffffffII'*rs,file(f).read(4*n)) \n",
    "                    # '>' denotes 'big-endian' byte order\n",
    "    # unpack data\n",
    "    pos = pd.DataFrame({'x': d[0::11],\n",
    "                        'y': d[1::11],\n",
    "                        'z': d[2::11],\n",
    "                        'Da': d[3::11],\n",
    "                        'ns': d[4::11],\n",
    "                        'DC_kV': d[5::11],\n",
    "                        'pulse_kV': d[6::11],\n",
    "                        'det_x': d[7::11],\n",
    "                        'det_y': d[8::11],\n",
    "                        'pslep': d[9::11], # pulses since last event pulse\n",
    "                        'ipp': d[10::11]}) # ions per pulse\n",
    "    return pos"
   ]
  },
  {
   "cell_type": "code",
   "execution_count": 21,
   "metadata": {
    "collapsed": false
   },
   "outputs": [],
   "source": [
    "epos = read_epos('example-data/voldata.epos')"
   ]
  },
  {
   "cell_type": "markdown",
   "metadata": {},
   "source": [
    "## Import .rrng"
   ]
  },
  {
   "cell_type": "code",
   "execution_count": 22,
   "metadata": {
    "collapsed": true
   },
   "outputs": [],
   "source": [
    "def read_rrng(f):\n",
    "    rf = open(f,'r').readlines()\n",
    "\n",
    "    patterns = re.compile(r'Ion([0-9]+)=([A-Za-z0-9]+).*|Range([0-9]+)=(\\d+.\\d+) +(\\d+.\\d+) +Vol:(\\d+.\\d+) +([A-Za-z:0-9 ]+) +Color:([A-Z0-9]{6})')\n",
    "\n",
    "    ions = []\n",
    "    rrngs = []\n",
    "    for line in rf:\n",
    "        m = patterns.search(line)\n",
    "        if m:\n",
    "            if m.groups()[0] is not None:\n",
    "                ions.append(m.groups()[:2])\n",
    "            else:\n",
    "                rrngs.append(m.groups()[2:])\n",
    "\n",
    "    ions = pd.DataFrame(ions, columns=['number','name'])\n",
    "    ions.set_index('number',inplace=True)\n",
    "    rrngs = pd.DataFrame(rrngs, columns=['number','lower','upper','vol','comp','colour'])\n",
    "    rrngs.set_index('number',inplace=True)\n",
    "    \n",
    "    rrngs[['lower','upper','vol']] = rrngs[['lower','upper','vol']].astype(float)\n",
    "    rrngs[['comp','colour']] = rrngs[['comp','colour']].astype(str)\n",
    "    \n",
    "    return ions,rrngs"
   ]
  },
  {
   "cell_type": "code",
   "execution_count": 25,
   "metadata": {
    "collapsed": false
   },
   "outputs": [],
   "source": [
    "ions, rrngs = read_rrng('example-data/rangefile.rrng')"
   ]
  },
  {
   "cell_type": "markdown",
   "metadata": {},
   "source": [
    "## Assign ion labels"
   ]
  },
  {
   "cell_type": "code",
   "execution_count": 26,
   "metadata": {
    "collapsed": false
   },
   "outputs": [],
   "source": [
    "def label_ions(pos,rrngs):\n",
    "    pos['comp'] = ''\n",
    "    pos['colour'] = '#FFFFFF'\n",
    "    \n",
    "    for n,r in rrngs.iterrows():\n",
    "        pos.loc[(pos.Da >= r.lower) & (pos.Da <= r.upper),['comp','colour']] = [r['comp'],'#' + r['colour']]\n",
    "    \n",
    "    return pos"
   ]
  },
  {
   "cell_type": "code",
   "execution_count": 27,
   "metadata": {
    "collapsed": false
   },
   "outputs": [],
   "source": [
    "lpos = label_ions(pos,rrngs)"
   ]
  },
  {
   "cell_type": "markdown",
   "metadata": {},
   "source": [
    "## Deconvolve Complex Ions"
   ]
  },
  {
   "cell_type": "code",
   "execution_count": 28,
   "metadata": {
    "collapsed": false
   },
   "outputs": [],
   "source": [
    "def deconvolve(lpos):\n",
    "    \"\"\"Takes a composition-labelled pos file, and deconvolves\n",
    "    the complex ions. Produces a dataframe of the same input format\n",
    "    with the extra columns:\n",
    "       'element': element name\n",
    "       'n': stoichiometry\n",
    "    For complex ions, the location of the different components is not\n",
    "    altered - i.e. xyz position will be the same for several elements.\"\"\"\n",
    "      \n",
    "    out = []\n",
    "    pattern = re.compile(r'([A-Za-z]+):([0-9]+)')\n",
    "\n",
    "    for g,d in lpos.groupby('comp'):\n",
    "        if g is not '':\n",
    "            for i in range(len(g.split(' '))):\n",
    "                tmp = d.copy()\n",
    "                cn = pattern.search(g.split(' ')[i]).groups()\n",
    "                tmp['element'] = cn[0]\n",
    "                tmp['n'] = cn[1]\n",
    "                out.append(tmp.copy())\n",
    "    return pd.concat(out)"
   ]
  },
  {
   "cell_type": "code",
   "execution_count": 29,
   "metadata": {
    "collapsed": false
   },
   "outputs": [],
   "source": [
    "dpos = deconvolve(lpos)"
   ]
  }
 ],
 "metadata": {
  "kernelspec": {
   "display_name": "Python 2",
   "language": "python",
   "name": "python2"
  },
  "language_info": {
   "codemirror_mode": {
    "name": "ipython",
    "version": 2
   },
   "file_extension": ".py",
   "mimetype": "text/x-python",
   "name": "python",
   "nbconvert_exporter": "python",
   "pygments_lexer": "ipython2",
   "version": "2.7.10"
  }
 },
 "nbformat": 4,
 "nbformat_minor": 0
}
