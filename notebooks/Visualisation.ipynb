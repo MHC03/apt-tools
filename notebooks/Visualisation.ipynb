{
 "cells": [
  {
   "cell_type": "markdown",
   "metadata": {},
   "source": [
    "## Visualise Volume Data from POS & rrng"
   ]
  },
  {
   "cell_type": "code",
   "execution_count": 1,
   "metadata": {
    "collapsed": false
   },
   "outputs": [],
   "source": [
    "from apt_importers import *"
   ]
  },
  {
   "cell_type": "code",
   "execution_count": 2,
   "metadata": {
    "collapsed": false
   },
   "outputs": [],
   "source": [
    "pos = read_pos('../example-data/voldata.pos')\n",
    "ions, rrngs = read_rrng('../example-data/rangefile.rrng')\n",
    "lpos = label_ions(pos,rrngs)\n",
    "dpos = deconvolve(lpos)"
   ]
  },
  {
   "cell_type": "code",
   "execution_count": null,
   "metadata": {
    "collapsed": true
   },
   "outputs": [],
   "source": [
    "def volvis(pos, size=2, alpha=1):\n",
    "    \"\"\"Displays a 3D point cloud in an OpenGL viewer window.\n",
    "    If points are not labelled with colours, point brightness\n",
    "    is determined by Da values (higher = whiter)\"\"\"\n",
    "    from vispy import app,scene,mpl_plot\n",
    "    import numpy as np\n",
    "    import sys\n",
    "    import matplotlib.colors as cols\n",
    "    import re\n",
    "    \n",
    "    canvas = scene.SceneCanvas('APT Volume',keys='interactive')\n",
    "    view = canvas.central_widget.add_view()\n",
    "    view.camera = scene.TurntableCamera(up='z')\n",
    "    \n",
    "    cpos = pos.loc[:,['x','y','z']].values\n",
    "    if 'colour' in pos.columns:\n",
    "        colours = np.asarray(list(pos.colour.apply(cols.hex2color)))\n",
    "    else:\n",
    "        Dapc = lpos.Da.values / lpos.Da.max()\n",
    "        colours = np.array(zip(Dapc,Dapc,Dapc))\n",
    "    if alpha is not 1:\n",
    "        np.hstack([colours, np.array([0.5] * len(colours))[...,None]])\n",
    "    \n",
    "    p1 = scene.visuals.Markers()\n",
    "    p1.set_data(cpos, face_color=colours, edge_width=0, size=size)\n",
    "\n",
    "    view.add(p1)\n",
    "    \n",
    "    # make legend\n",
    "    ions = []\n",
    "    cs = []\n",
    "    for g,d in pos.groupby('colour'):\n",
    "        ions.append(re.sub(r':1?|\\s?','',d.comp.iloc[0]))\n",
    "        cs.append(cols.hex2color(g))\n",
    "    ions = np.array(ions)\n",
    "    cs = np.asarray(cs)\n",
    "\n",
    "    pts = np.array([[20] * len(ions), np.linspace(20,20*len(ions), len(ions))]).T\n",
    "    tpts = np.array([[30] * len(ions), np.linspace(20,20*len(ions), len(ions))]).T\n",
    "    \n",
    "    legb = scene.widgets.ViewBox(parent=view, border_color='red', bgcolor='k')\n",
    "    legb.pos = 0,0\n",
    "    legb.size = 100,20*len(ions)+20\n",
    "    \n",
    "    leg = scene.visuals.Markers()\n",
    "    leg.set_data(pts, face_color=cs)\n",
    "    legb.add(leg)\n",
    "    \n",
    "    legt = scene.visuals.Text(text=ions,pos=tpts,color='white', anchor_x='left', anchor_y='center', font_size=10)\n",
    "    \n",
    "    legb.add(legt)\n",
    "    \n",
    "    # show viewer\n",
    "    canvas.show()\n",
    "    if sys.flags.interactive == 0: \n",
    "        app.run()"
   ]
  },
  {
   "cell_type": "code",
   "execution_count": null,
   "metadata": {
    "collapsed": false
   },
   "outputs": [
    {
     "name": "stderr",
     "output_type": "stream",
     "text": [
      "WARNING: OpenGL version 3.0 or higher recommended, got 2.1 INTEL-10.6.31. Some functionality may fail.\n",
      "WARNING:vispy:OpenGL version 3.0 or higher recommended, got 2.1 INTEL-10.6.31. Some functionality may fail.\n"
     ]
    }
   ],
   "source": [
    "volvis(dpos,alpha=0.6)"
   ]
  },
  {
   "cell_type": "code",
   "execution_count": null,
   "metadata": {
    "collapsed": true
   },
   "outputs": [],
   "source": [
    "volvis(dpos.loc[dpos.element=='Na',:])"
   ]
  }
 ],
 "metadata": {
  "kernelspec": {
   "display_name": "Python 2",
   "language": "python",
   "name": "python2"
  },
  "language_info": {
   "codemirror_mode": {
    "name": "ipython",
    "version": 2
   },
   "file_extension": ".py",
   "mimetype": "text/x-python",
   "name": "python",
   "nbconvert_exporter": "python",
   "pygments_lexer": "ipython2",
   "version": "2.7.10"
  }
 },
 "nbformat": 4,
 "nbformat_minor": 0
}
