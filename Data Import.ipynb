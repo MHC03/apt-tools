{
 "cells": [
  {
   "cell_type": "code",
   "execution_count": 1,
   "metadata": {
    "collapsed": false
   },
   "outputs": [],
   "source": [
    "import pandas as pd\n",
    "import struct\n",
    "import re\n",
    "import numpy as np\n",
    "\n",
    "import matplotlib.colors as cols\n",
    "import matplotlib.pyplot as plt\n",
    "from mpl_toolkits.mplot3d import Axes3D\n",
    "\n",
    "# %matplotlib inline"
   ]
  },
  {
   "cell_type": "markdown",
   "metadata": {},
   "source": [
    "## Import .pos"
   ]
  },
  {
   "cell_type": "code",
   "execution_count": 2,
   "metadata": {
    "collapsed": true
   },
   "outputs": [],
   "source": [
    "def read_pos(f):\n",
    "    # read in the data\n",
    "    n = len(file(f).read())/4\n",
    "    d = struct.unpack('>'+'f'*n,file(f).read(4*n)) \n",
    "                    # '>' denotes 'big-endian' byte order\n",
    "    # unpack data\n",
    "    pos = pd.DataFrame({'x': d[0::4],\n",
    "                        'y': d[1::4],\n",
    "                        'z': d[2::4],\n",
    "                        'Da': d[3::4]})\n",
    "    return pos"
   ]
  },
  {
   "cell_type": "code",
   "execution_count": 3,
   "metadata": {
    "collapsed": false
   },
   "outputs": [],
   "source": [
    "pos = read_pos('R31_04588-v02.pos')"
   ]
  },
  {
   "cell_type": "markdown",
   "metadata": {},
   "source": [
    "## Import .epos"
   ]
  },
  {
   "cell_type": "code",
   "execution_count": 4,
   "metadata": {
    "collapsed": false
   },
   "outputs": [],
   "source": [
    "def read_epos(f):\n",
    "    # read in the data\n",
    "    n = len(file(f).read())/4\n",
    "    rs = n / 11\n",
    "    d = struct.unpack('>'+'fffffffffII'*rs,file(f).read(4*n)) \n",
    "                    # '>' denotes 'big-endian' byte order\n",
    "    # unpack data\n",
    "    pos = pd.DataFrame({'x': d[0::11],\n",
    "                        'y': d[1::11],\n",
    "                        'z': d[2::11],\n",
    "                        'Da': d[3::11],\n",
    "                        'ns': d[4::11],\n",
    "                        'DC_kV': d[5::11],\n",
    "                        'pulse_kV': d[6::11],\n",
    "                        'det_x': d[7::11],\n",
    "                        'det_y': d[8::11],\n",
    "                        'pslep': d[9::11], # pulses since last event pulse\n",
    "                        'ipp': d[10::11]}) # ions per pulse\n",
    "    return pos"
   ]
  },
  {
   "cell_type": "code",
   "execution_count": 5,
   "metadata": {
    "collapsed": false
   },
   "outputs": [],
   "source": [
    "epos = read_epos('R31_04588-v02.epos')"
   ]
  },
  {
   "cell_type": "markdown",
   "metadata": {},
   "source": [
    "## Import .rrng"
   ]
  },
  {
   "cell_type": "code",
   "execution_count": 6,
   "metadata": {
    "collapsed": true
   },
   "outputs": [],
   "source": [
    "def read_rrng(f):\n",
    "    rf = open(f,'r').readlines()\n",
    "\n",
    "    patterns = re.compile(r'Ion([0-9]+)=([A-Za-z0-9]+).*|Range([0-9]+)=(\\d+.\\d+) +(\\d+.\\d+) +Vol:(\\d+.\\d+) +([A-Za-z:0-9 ]+) +Color:([A-Z0-9]{6})')\n",
    "\n",
    "    ions = []\n",
    "    rrngs = []\n",
    "    for line in rf:\n",
    "        m = patterns.search(line)\n",
    "        if m:\n",
    "            if m.groups()[0] is not None:\n",
    "                ions.append(m.groups()[:2])\n",
    "            else:\n",
    "                rrngs.append(m.groups()[2:])\n",
    "\n",
    "    ions = pd.DataFrame(ions, columns=['number','name'])\n",
    "    ions.set_index('number',inplace=True)\n",
    "    rrngs = pd.DataFrame(rrngs, columns=['number','lower','upper','vol','comp','colour'])\n",
    "    rrngs.set_index('number',inplace=True)\n",
    "    \n",
    "    rrngs[['lower','upper','vol']] = rrngs[['lower','upper','vol']].astype(float)\n",
    "    rrngs[['comp','colour']] = rrngs[['comp','colour']].astype(str)\n",
    "    \n",
    "    return ions,rrngs"
   ]
  },
  {
   "cell_type": "code",
   "execution_count": 7,
   "metadata": {
    "collapsed": false
   },
   "outputs": [],
   "source": [
    "ions, rrngs = read_rrng('4588_whole_tip_figure.rrng')"
   ]
  },
  {
   "cell_type": "markdown",
   "metadata": {},
   "source": [
    "## Assign ion labels"
   ]
  },
  {
   "cell_type": "code",
   "execution_count": 8,
   "metadata": {
    "collapsed": false
   },
   "outputs": [],
   "source": [
    "def label_ions(pos,rrngs):\n",
    "    pos['comp'] = ''\n",
    "    pos['colour'] = '#FFFFFF'\n",
    "    \n",
    "    for n,r in rrngs.iterrows():\n",
    "        pos.loc[(pos.Da >= r.lower) & (pos.Da <= r.upper),['comp','colour']] = [r['comp'],'#' + r['colour']]\n",
    "    \n",
    "    return pos"
   ]
  },
  {
   "cell_type": "code",
   "execution_count": 9,
   "metadata": {
    "collapsed": false
   },
   "outputs": [],
   "source": [
    "lpos = label_ions(pos,rrngs)"
   ]
  },
  {
   "cell_type": "markdown",
   "metadata": {},
   "source": [
    "## Deconvolve Complex Ions"
   ]
  },
  {
   "cell_type": "code",
   "execution_count": 15,
   "metadata": {
    "collapsed": false
   },
   "outputs": [],
   "source": [
    "def deconvolve(lpos):\n",
    "    \"\"\"Takes a composition-labelled pos file, and deconvolves\n",
    "    the complex ions. Produces a dataframe of the same input format\n",
    "    with the extra columns:\n",
    "       'element': element name\n",
    "       'n': stoichiometry\n",
    "    For complex ions, the location of the different components is not\n",
    "    altered - i.e. xyz position will be the same for several elements.\"\"\"\n",
    "      \n",
    "    out = []\n",
    "    pattern = re.compile(r'([A-Za-z]+):([0-9]+)')\n",
    "\n",
    "    for g,d in lpos.groupby('comp'):\n",
    "        if g is not '':\n",
    "            for i in range(len(g.split(' '))):\n",
    "                tmp = d.copy()\n",
    "                cn = pattern.search(g.split(' ')[i]).groups()\n",
    "                tmp['element'] = cn[0]\n",
    "                tmp['n'] = cn[1]\n",
    "                out.append(tmp.copy())\n",
    "    return pd.concat(out)"
   ]
  },
  {
   "cell_type": "code",
   "execution_count": 16,
   "metadata": {
    "collapsed": false
   },
   "outputs": [],
   "source": [
    "dpos = deconvolve(lpos)"
   ]
  },
  {
   "cell_type": "markdown",
   "metadata": {},
   "source": [
    "## Visualise Volume"
   ]
  },
  {
   "cell_type": "code",
   "execution_count": 78,
   "metadata": {
    "collapsed": false
   },
   "outputs": [
    {
     "ename": "TypeError",
     "evalue": "scatter() takes at least 2 arguments (0 given)",
     "output_type": "error",
     "traceback": [
      "\u001b[0;31m---------------------------------------------------------------------------\u001b[0m",
      "\u001b[0;31mTypeError\u001b[0m                                 Traceback (most recent call last)",
      "\u001b[0;32m<ipython-input-78-7a8d1b3ba4cd>\u001b[0m in \u001b[0;36m<module>\u001b[0;34m()\u001b[0m\n\u001b[1;32m      4\u001b[0m \u001b[0mleg\u001b[0m \u001b[0;34m=\u001b[0m \u001b[0mscene\u001b[0m\u001b[0;34m.\u001b[0m\u001b[0mwidgets\u001b[0m\u001b[0;34m.\u001b[0m\u001b[0mViewBox\u001b[0m\u001b[0;34m(\u001b[0m\u001b[0mparent\u001b[0m\u001b[0;34m=\u001b[0m\u001b[0mview\u001b[0m\u001b[0;34m,\u001b[0m \u001b[0mborder_color\u001b[0m\u001b[0;34m=\u001b[0m\u001b[0;34m'red'\u001b[0m\u001b[0;34m,\u001b[0m \u001b[0mbgcolor\u001b[0m\u001b[0;34m=\u001b[0m\u001b[0;34m'k'\u001b[0m\u001b[0;34m)\u001b[0m\u001b[0;34m\u001b[0m\u001b[0m\n\u001b[1;32m      5\u001b[0m \u001b[0;34m\u001b[0m\u001b[0m\n\u001b[0;32m----> 6\u001b[0;31m \u001b[0mmpl_plot\u001b[0m\u001b[0;34m.\u001b[0m\u001b[0mscatter\u001b[0m\u001b[0;34m(\u001b[0m\u001b[0;34m)\u001b[0m\u001b[0;34m\u001b[0m\u001b[0m\n\u001b[0m\u001b[1;32m      7\u001b[0m \u001b[0;34m\u001b[0m\u001b[0m\n\u001b[1;32m      8\u001b[0m \u001b[0mnp\u001b[0m\u001b[0;34m.\u001b[0m\u001b[0mrandom\u001b[0m\u001b[0;34m.\u001b[0m\u001b[0muniform\u001b[0m\u001b[0;34m(\u001b[0m\u001b[0;36m10\u001b[0m\u001b[0;34m,\u001b[0m\u001b[0;36m2\u001b[0m\u001b[0;34m)\u001b[0m\u001b[0;34m\u001b[0m\u001b[0m\n",
      "\u001b[0;31mTypeError\u001b[0m: scatter() takes at least 2 arguments (0 given)"
     ]
    }
   ],
   "source": [
    "from vispy import app,scene,mpl_plot\n",
    "canvas = scene.SceneCanvas(keys='interactive')\n",
    "view = canvas.central_widget.add_view()\n",
    "leg = scene.widgets.ViewBox(parent=view, border_color='red', bgcolor='k')\n",
    "\n",
    "mpl_plot.scatter()"
   ]
  },
  {
   "cell_type": "code",
   "execution_count": 181,
   "metadata": {
    "collapsed": false
   },
   "outputs": [],
   "source": [
    "def volvis(pos, size=2, alpha=1):\n",
    "    \"\"\"Displays a 3D point cloud in an OpenGL viewer window.\n",
    "    If points are not labelled with colours, point brightness\n",
    "    is determined by Da values (higher = whiter)\"\"\"\n",
    "    from vispy import app,scene,mpl_plot\n",
    "    import numpy as np\n",
    "    import sys\n",
    "    \n",
    "    canvas = scene.SceneCanvas('APT Volume',keys='interactive')\n",
    "    view = canvas.central_widget.add_view()\n",
    "    view.camera = scene.TurntableCamera(up='z')\n",
    "    \n",
    "    cpos = pos.loc[:,['x','y','z']].values\n",
    "    if 'colour' in pos.columns:\n",
    "        colours = np.asarray(list(pos.colour.apply(cols.hex2color)))\n",
    "    else:\n",
    "        Dapc = lpos.Da.values / lpos.Da.max()\n",
    "        colours = np.array(zip(Dapc,Dapc,Dapc))\n",
    "    if alpha is not 1:\n",
    "        np.hstack([colours, np.array([0.5] * len(colours))[...,None]])\n",
    "    \n",
    "    p1 = scene.visuals.Markers()\n",
    "    p1.set_data(cpos, face_color=colours, edge_width=0, size=size)\n",
    "\n",
    "    view.add(p1)\n",
    "    \n",
    "    # make legend\n",
    "    ions = []\n",
    "    cs = []\n",
    "    for g,d in pos.groupby('colour'):\n",
    "        ions.append(re.sub(r':1?|\\s?','',d.comp.iloc[0]))\n",
    "        cs.append(cols.hex2color(g))\n",
    "    ions = np.array(ions)\n",
    "    cs = np.asarray(cs)\n",
    "\n",
    "    pts = np.array([[20] * len(ions), np.linspace(20,20*len(ions), len(ions))]).T\n",
    "    tpts = np.array([[30] * len(ions), np.linspace(20,20*len(ions), len(ions))]).T\n",
    "    \n",
    "    legb = scene.widgets.ViewBox(parent=view, border_color='red', bgcolor='k')\n",
    "    legb.pos = 0,0\n",
    "    legb.size = 100,20*len(ions)+20\n",
    "    \n",
    "    leg = scene.visuals.Markers()\n",
    "    leg.set_data(pts, face_color=cs)\n",
    "    legb.add(leg)\n",
    "    \n",
    "    legt = scene.visuals.Text(text=ions,pos=tpts,color='white', anchor_x='left', anchor_y='center', font_size=10)\n",
    "    \n",
    "    legb.add(legt)\n",
    "    \n",
    "    # show viewer\n",
    "    canvas.show()\n",
    "    if sys.flags.interactive == 0: \n",
    "        app.run()"
   ]
  },
  {
   "cell_type": "code",
   "execution_count": 177,
   "metadata": {
    "collapsed": false
   },
   "outputs": [
    {
     "name": "stderr",
     "output_type": "stream",
     "text": [
      "WARNING: OpenGL version 3.0 or higher recommended, got 2.1 INTEL-10.6.20. Some functionality may fail.\n",
      "WARNING:vispy:OpenGL version 3.0 or higher recommended, got 2.1 INTEL-10.6.20. Some functionality may fail.\n"
     ]
    }
   ],
   "source": [
    "volvis(dpos,alpha=0.6)"
   ]
  },
  {
   "cell_type": "code",
   "execution_count": 182,
   "metadata": {
    "collapsed": false
   },
   "outputs": [
    {
     "name": "stderr",
     "output_type": "stream",
     "text": [
      "WARNING: OpenGL version 3.0 or higher recommended, got 2.1 INTEL-10.6.20. Some functionality may fail.\n",
      "WARNING:vispy:OpenGL version 3.0 or higher recommended, got 2.1 INTEL-10.6.20. Some functionality may fail.\n"
     ]
    }
   ],
   "source": [
    "volvis(dpos.loc[dpos.element=='Na',:])"
   ]
  },
  {
   "cell_type": "code",
   "execution_count": null,
   "metadata": {
    "collapsed": true
   },
   "outputs": [],
   "source": []
  }
 ],
 "metadata": {
  "kernelspec": {
   "display_name": "Python 2",
   "language": "python",
   "name": "python2"
  },
  "language_info": {
   "codemirror_mode": {
    "name": "ipython",
    "version": 2
   },
   "file_extension": ".py",
   "mimetype": "text/x-python",
   "name": "python",
   "nbconvert_exporter": "python",
   "pygments_lexer": "ipython2",
   "version": "2.7.10"
  }
 },
 "nbformat": 4,
 "nbformat_minor": 0
}
